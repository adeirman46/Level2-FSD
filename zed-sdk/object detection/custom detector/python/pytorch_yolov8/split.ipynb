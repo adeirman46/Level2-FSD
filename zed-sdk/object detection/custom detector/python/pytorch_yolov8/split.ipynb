{
 "cells": [
  {
   "cell_type": "code",
   "execution_count": 1,
   "metadata": {},
   "outputs": [],
   "source": [
    "import cv2"
   ]
  },
  {
   "cell_type": "code",
   "execution_count": 2,
   "metadata": {},
   "outputs": [],
   "source": [
    "import cv2\n",
    "\n",
    "# Read the stereo image\n",
    "stereo_image = cv2.imread('image_stereo.png')\n",
    "\n",
    "# Get the dimensions of the image\n",
    "height, width, channels = stereo_image.shape\n",
    "\n",
    "# Calculate the center of the image\n",
    "center = width // 2\n",
    "\n",
    "# Split the image into left and right images\n",
    "left_image = stereo_image[:, :center]\n",
    "right_image = stereo_image[:, center:]\n",
    "\n",
    "# Save or display the images\n",
    "cv2.imwrite('left_image.jpg', left_image)\n",
    "cv2.imwrite('right_image.jpg', right_image)\n",
    "\n",
    "cv2.imshow('Left Image', left_image)\n",
    "cv2.imshow('Right Image', right_image)\n",
    "cv2.waitKey(0)\n",
    "cv2.destroyAllWindows()\n"
   ]
  },
  {
   "cell_type": "code",
   "execution_count": null,
   "metadata": {},
   "outputs": [],
   "source": []
  }
 ],
 "metadata": {
  "kernelspec": {
   "display_name": "zed_sdk",
   "language": "python",
   "name": "python3"
  },
  "language_info": {
   "codemirror_mode": {
    "name": "ipython",
    "version": 3
   },
   "file_extension": ".py",
   "mimetype": "text/x-python",
   "name": "python",
   "nbconvert_exporter": "python",
   "pygments_lexer": "ipython3",
   "version": "3.8.19"
  }
 },
 "nbformat": 4,
 "nbformat_minor": 2
}
